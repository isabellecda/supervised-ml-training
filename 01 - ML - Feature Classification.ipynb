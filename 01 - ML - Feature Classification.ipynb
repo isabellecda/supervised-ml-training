{
 "cells": [
  {
   "cell_type": "markdown",
   "id": "725bedee",
   "metadata": {},
   "source": [
    "## Supervised Machine Learning - Example 01\n",
    "# Feature Classification\n"
   ]
  },
  {
   "cell_type": "markdown",
   "id": "0aee6468",
   "metadata": {},
   "source": [
    "_\"A pattern recognition technique that is used to categorize data into different classes.\"_"
   ]
  },
  {
   "cell_type": "markdown",
   "id": "a97ca5d6",
   "metadata": {},
   "source": [
    "This example uses **Scikit-learn** (http://scikit-learn.org/).\n",
    "\n",
    "**Scikit-learn** is an open-source machine learning library for Python that offers a variety of regression, classification and clustering algorithms.\n"
   ]
  },
  {
   "cell_type": "markdown",
   "id": "e331f5d6",
   "metadata": {},
   "source": [
    "## Objective:\n",
    "* To automatically flag phishing messages using selected features (individual measurable properties) of an e-mail corpus.\n",
    "\n",
    "### Input data:\n",
    "\n",
    "**Origin:**\n",
    "* emails-enron-features.csv: Regular, non-phishy emails from the Enron email corpus;\n",
    "* emails-phishing-features.csv: Phishing email corpus.\n",
    "\n",
    "<i>Both files were created using a custom fork of: https://github.com/diegoocampoh/MachineLearningPhishing</i>"
   ]
  },
  {
   "cell_type": "markdown",
   "id": "f5b377a6",
   "metadata": {},
   "source": [
    "**Features description:**\n",
    "* Html Form: (boolean) True if the e-mail contains HTML forms;\n",
    "* Number of Attachments: (numerical) Number of attachments present in the e-mail;\n",
    "* Flash content: (boolean) True if flash content detected in the body of the email;\n",
    "* Html iFrame: (boolean) True if HTML iFrames detected;\n",
    "* HTML content: (boolean) True if HTML content detected;\n",
    "* URLs: (numerical) Number of URLS in the email;\n",
    "* External Resources: (numerical) Number of external resources linked in e-mails body;\n",
    "* Javascript: (numerical) Number of Javascript blocks inside the email’s body;\n",
    "* Css: (numerical) Number of Css links in the e-mails body, under the head tag in the html message;\n",
    "* IPs in URLs: (boolean): True if detected IPs in URLS, instead of human-readable domain names;\n",
    "* @ in URLs: (boolean) True if there is the '@' character in URLs;\n",
    "* Encoding: (text): Message encoding.\n",
    "\n",
    "**Label**\n",
    "* Phishy: (boolean) True if from the phishing e-mail corpus."
   ]
  },
  {
   "cell_type": "markdown",
   "id": "b645ab65",
   "metadata": {},
   "source": [
    "## Summary:\n",
    "\n",
    "1. [Import and Load](#p1)\n",
    "2. [Data Exploration](#p2)\n",
    "3. [Prepare the Data Set](#p3)\n",
    "4. [Train and Test](#p4)\n",
    "5. [Exercise](#p5)\n",
    "6. [Export](#p6)"
   ]
  },
  {
   "cell_type": "markdown",
   "id": "b4196c09",
   "metadata": {},
   "source": [
    "<a id=\"p1\"></a>\n",
    "## 1. Import and Load\n",
    "\n",
    "The data set is a concatenation of two [CSV](https://en.wikipedia.org/wiki/Comma-separated_values) files created from the [Enron email corpus](https://www.cs.cmu.edu/~enron/) and an available [phishing corpus](http://monkey.org/%7Ejose/wiki/doku.php?id=PhishingCorpus)."
   ]
  },
  {
   "cell_type": "code",
   "execution_count": null,
   "id": "11dfa415",
   "metadata": {},
   "outputs": [],
   "source": [
    "import numpy as np\n",
    "import pandas as pd\n",
    "\n",
    "from sklearn.model_selection import train_test_split\n",
    "from sklearn import metrics"
   ]
  },
  {
   "cell_type": "code",
   "execution_count": null,
   "id": "65882ab0",
   "metadata": {},
   "outputs": [],
   "source": [
    "df = pd.concat(map(pd.read_csv, \n",
    "                   ['data/emails-enron-features.csv', \n",
    "                    'data/emails-phishing-features.csv']))\n",
    "df.head()"
   ]
  },
  {
   "cell_type": "markdown",
   "id": "3e755b38",
   "metadata": {},
   "source": [
    "<a id=\"p2\"></a>\n",
    "## 2. Data Exploration\n",
    "\n",
    "Initial step in data analysis, where we explore a large data set in an unstructured way to uncover initial patterns, characteristics  and points of interest."
   ]
  },
  {
   "cell_type": "code",
   "execution_count": null,
   "id": "51140c19",
   "metadata": {},
   "outputs": [],
   "source": [
    "type(df)"
   ]
  },
  {
   "cell_type": "code",
   "execution_count": null,
   "id": "bf3c886f",
   "metadata": {},
   "outputs": [],
   "source": [
    "df.shape"
   ]
  },
  {
   "cell_type": "markdown",
   "id": "43aa5747",
   "metadata": {},
   "source": [
    "### Check for missing values\n",
    "\n",
    "Missing data can reduce the statistical power of a study and can produce biased estimates, leading to invalid conclusions ([Why are missing values a problem?](https://www.ncbi.nlm.nih.gov/pmc/articles/PMC3668100/))"
   ]
  },
  {
   "cell_type": "code",
   "execution_count": null,
   "id": "5bad10cb",
   "metadata": {},
   "outputs": [],
   "source": [
    "df.isnull().sum()"
   ]
  },
  {
   "cell_type": "markdown",
   "id": "ced1e0b6",
   "metadata": {},
   "source": [
    "### Take a quick look at the *Phishy* label column:"
   ]
  },
  {
   "cell_type": "code",
   "execution_count": null,
   "id": "1e25485c",
   "metadata": {},
   "outputs": [],
   "source": [
    "df['Phishy'].unique()"
   ]
  },
  {
   "cell_type": "code",
   "execution_count": null,
   "id": "f1aef7e9",
   "metadata": {},
   "outputs": [],
   "source": [
    "df['Phishy'].value_counts()"
   ]
  },
  {
   "cell_type": "markdown",
   "id": "30eba411",
   "metadata": {},
   "source": [
    "We can see that we have a [balanced dataset](https://medium.com/analytics-vidhya/what-is-balance-and-imbalance-dataset-89e8d7f46bc5): 2000 out of 4000 e-mails (50%) are _Phishy_.\n",
    "\n",
    "This means that any machine learning model we create has to perform **better than 50%** to beat random chance."
   ]
  },
  {
   "cell_type": "markdown",
   "id": "c1733003",
   "metadata": {},
   "source": [
    "### Check the features' column types"
   ]
  },
  {
   "cell_type": "code",
   "execution_count": null,
   "id": "1069b272",
   "metadata": {},
   "outputs": [],
   "source": [
    "df.dtypes"
   ]
  },
  {
   "cell_type": "markdown",
   "id": "681232b2",
   "metadata": {},
   "source": [
    "### Explore and select features\n",
    "\n",
    "[Feature Selection](https://towardsdatascience.com/feature-selection-techniques-in-machine-learning-with-python-f24e7da3f36e) is one of the core concepts in machine learning, which hugely impacts the performance of your model. The data features that you use to train your ML models have a huge influence on the performance you can achieve."
   ]
  },
  {
   "cell_type": "code",
   "execution_count": null,
   "id": "97799b01",
   "metadata": {},
   "outputs": [],
   "source": [
    "df[df['Phishy']==False]['URLs'].describe()"
   ]
  },
  {
   "cell_type": "code",
   "execution_count": null,
   "id": "dde02fa8",
   "metadata": {},
   "outputs": [],
   "source": [
    "df[df['Phishy']==True]['URLs'].describe()"
   ]
  },
  {
   "cell_type": "markdown",
   "id": "388f0d1f",
   "metadata": {},
   "source": [
    "<a id=\"p3\"></a>\n",
    "## 3. Prepare the Data Set"
   ]
  },
  {
   "cell_type": "markdown",
   "id": "79e74cb0",
   "metadata": {},
   "source": [
    "### Create Feature and Label sets\n",
    "\n",
    "**Feature** columns are the ones used to predict the **label** columns.\n",
    "\n",
    "By **convention**, Features are represented as **X** (uppercase) and Labels as **y** (lowercase)."
   ]
  },
  {
   "cell_type": "code",
   "execution_count": null,
   "id": "648fe069",
   "metadata": {},
   "outputs": [],
   "source": [
    "X = df[['Html Form','Attachments','Flash content','URLs','External Resources','Javascript']]\n",
    "y = df['Phishy']"
   ]
  },
  {
   "cell_type": "markdown",
   "id": "2a4e3165",
   "metadata": {},
   "source": [
    "### Split the data into train and test sets\n",
    "\n",
    "Here we'll assign 70% of the data for training and 30% for testing.\n",
    "\n",
    "Also, we are setting a `random_state` seed value to ensure results replicability."
   ]
  },
  {
   "cell_type": "code",
   "execution_count": null,
   "id": "12edba3c",
   "metadata": {},
   "outputs": [],
   "source": [
    "X_train, X_test, y_train, y_test = train_test_split(X, y, test_size=0.30, random_state=42)\n",
    "\n",
    "print('Training Data Shape:', X_train.shape)\n",
    "print('Testing Data Shape: ', X_test.shape)"
   ]
  },
  {
   "cell_type": "markdown",
   "id": "828ed774",
   "metadata": {},
   "source": [
    "<a id=\"p4\"></a>\n",
    "## 4. Train and Test\n",
    "\n",
    "We will try different [classification algorithms](https://scikit-learn.org/stable/tutorial/machine_learning_map/index.html) and compare their results."
   ]
  },
  {
   "cell_type": "markdown",
   "id": "1c7e0a87",
   "metadata": {},
   "source": [
    "### Decision Tree\n",
    "\n",
    "A supervised learning method that learns simple decision rules inferred from the data features and predicts the value of a target variable.\n",
    "\n",
    "It can be simplified as a set of if-then-else decision rules modeled in a tree structure, where the **leaves** represent class labels and branches represent **conjunctions** of features that lead to those class labels."
   ]
  },
  {
   "cell_type": "code",
   "execution_count": null,
   "id": "8bd232dd",
   "metadata": {},
   "outputs": [],
   "source": [
    "# Import\n",
    "from sklearn.tree import DecisionTreeClassifier\n",
    "\n",
    "# Create \n",
    "dtc = DecisionTreeClassifier(random_state=42, max_depth=6)\n",
    "\n",
    "# Train\n",
    "dtc = dtc.fit(X_train, y_train)"
   ]
  },
  {
   "cell_type": "code",
   "execution_count": null,
   "id": "28dc086c",
   "metadata": {},
   "outputs": [],
   "source": [
    "# Plot\n",
    "\n",
    "# Define plot labels\n",
    "print(f'Model classes: {dtc.classes_}')\n",
    "\n",
    "classes = ['OK', 'Phishy']\n",
    "features = X.columns\n",
    "\n",
    "# Configure plot figure\n",
    "from sklearn.tree import plot_tree\n",
    "import matplotlib.pyplot as plt\n",
    "\n",
    "plt.figure(figsize=(18,18)) \n",
    "plot_tree(dtc, filled=True, fontsize=10, \n",
    "          feature_names=features, \n",
    "          class_names=classes);\n",
    "\n",
    "\n",
    "# Export as PNG (current dir)\n",
    "plt.savefig('dtc_plt', dpi=100)\n",
    "\n",
    "# Plot\n",
    "plt.show()"
   ]
  },
  {
   "cell_type": "markdown",
   "id": "37889e0b",
   "metadata": {},
   "source": [
    "**Check the model's accuracy:**"
   ]
  },
  {
   "cell_type": "code",
   "execution_count": null,
   "id": "ff8d3397",
   "metadata": {},
   "outputs": [],
   "source": [
    "# Create a prediction set\n",
    "predictions = dtc.predict(X_test)\n",
    "\n",
    "# Print a confusion matrix\n",
    "cm = metrics.confusion_matrix(y_test, predictions, labels=dtc.classes_)\n",
    "\n",
    "disp = metrics.ConfusionMatrixDisplay(confusion_matrix=cm, display_labels=dtc.classes_)\n",
    "disp.plot()"
   ]
  },
  {
   "cell_type": "code",
   "execution_count": null,
   "id": "6f2dea67",
   "metadata": {},
   "outputs": [],
   "source": [
    "# Classification report\n",
    "print(metrics.classification_report(y_test,predictions))"
   ]
  },
  {
   "cell_type": "code",
   "execution_count": null,
   "id": "3f3848b7",
   "metadata": {},
   "outputs": [],
   "source": [
    "# Overall accuracy\n",
    "print(metrics.accuracy_score(y_test, predictions))"
   ]
  },
  {
   "cell_type": "markdown",
   "id": "518aeb60",
   "metadata": {},
   "source": [
    "<a id=\"p5\"></a>\n",
    "## 5. Exercise\n",
    "\n",
    "Try a different [classification algorithm](https://scikit-learn.org/stable/tutorial/machine_learning_map/index.html)."
   ]
  },
  {
   "cell_type": "code",
   "execution_count": null,
   "id": "48bb06c8",
   "metadata": {},
   "outputs": [],
   "source": [
    "# Import\n",
    "...\n",
    "\n",
    "# Create \n",
    "...\n",
    "\n",
    "# Train\n",
    "..."
   ]
  },
  {
   "cell_type": "code",
   "execution_count": null,
   "id": "a7a6209f",
   "metadata": {},
   "outputs": [],
   "source": [
    "# Create a prediction set\n",
    "...\n",
    "\n",
    "# Print a confusion matrix\n",
    "..."
   ]
  },
  {
   "cell_type": "code",
   "execution_count": null,
   "id": "0b6bef1b",
   "metadata": {},
   "outputs": [],
   "source": [
    "# Classification report\n",
    "..."
   ]
  },
  {
   "cell_type": "code",
   "execution_count": null,
   "id": "9826455b",
   "metadata": {},
   "outputs": [],
   "source": [
    "# Overall accuracy\n",
    "..."
   ]
  },
  {
   "cell_type": "markdown",
   "id": "efe9dda8",
   "metadata": {},
   "source": [
    "<a id=\"p6\"></a>\n",
    "## 6. Export"
   ]
  },
  {
   "cell_type": "markdown",
   "id": "8c58cfc2",
   "metadata": {},
   "source": [
    "If needed, you can export a trained model and use it in a different application."
   ]
  },
  {
   "cell_type": "code",
   "execution_count": null,
   "id": "906f8687",
   "metadata": {},
   "outputs": [],
   "source": [
    "# Select the desired model\n",
    "model = dtc"
   ]
  },
  {
   "cell_type": "code",
   "execution_count": null,
   "id": "5817458b",
   "metadata": {},
   "outputs": [],
   "source": [
    "import joblib\n",
    "\n",
    "# Save to file in the current working directory\n",
    "joblib_file = \"phishing_detection_mlmodel.pkl\"\n",
    "joblib.dump(model, joblib_file)"
   ]
  },
  {
   "cell_type": "markdown",
   "id": "a9eb55ff",
   "metadata": {},
   "source": [
    "### Trained model reuse (import) example"
   ]
  },
  {
   "cell_type": "code",
   "execution_count": null,
   "id": "1356fd29",
   "metadata": {},
   "outputs": [],
   "source": [
    "# Load from file\n",
    "joblib_file = \"phishing_detection_mlmodel.pkl\"\n",
    "joblib_model = joblib.load(joblib_file)"
   ]
  },
  {
   "cell_type": "code",
   "execution_count": null,
   "id": "8150dcb4",
   "metadata": {},
   "outputs": [],
   "source": [
    "# Calculate the accuracy and predictions\n",
    "score = joblib_model.score(X_test, y_test)\n",
    "print(\"Test score: {0:.2f} %\".format(100 * score))"
   ]
  },
  {
   "cell_type": "code",
   "execution_count": null,
   "id": "a3ede978",
   "metadata": {},
   "outputs": [],
   "source": [
    "# Prediction test\n",
    "y_predict = joblib_model.predict(X_test)\n",
    "y_predict"
   ]
  }
 ],
 "metadata": {
  "kernelspec": {
   "display_name": "Python 3 (ipykernel)",
   "language": "python",
   "name": "python3"
  },
  "language_info": {
   "codemirror_mode": {
    "name": "ipython",
    "version": 3
   },
   "file_extension": ".py",
   "mimetype": "text/x-python",
   "name": "python",
   "nbconvert_exporter": "python",
   "pygments_lexer": "ipython3",
   "version": "3.9.7"
  }
 },
 "nbformat": 4,
 "nbformat_minor": 5
}
