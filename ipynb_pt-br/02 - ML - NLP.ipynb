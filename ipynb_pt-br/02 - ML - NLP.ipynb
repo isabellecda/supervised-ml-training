{
 "cells": [
  {
   "cell_type": "markdown",
   "id": "f3742c8e",
   "metadata": {
    "id": "f3742c8e"
   },
   "source": [
    "## Aprendizado de Máquina Supervisionado - Exemplo 02\n",
    "# _Text Classification_"
   ]
  },
  {
   "cell_type": "markdown",
   "id": "c9dd6f60",
   "metadata": {
    "id": "c9dd6f60"
   },
   "source": [
    "Técnica de _machine learning_ que atribui um conjunto de categorias pré-definidas a um texto aberto."
   ]
  },
  {
   "cell_type": "markdown",
   "id": "1e3af5b4",
   "metadata": {
    "id": "1e3af5b4"
   },
   "source": [
    "Esse exemplo utiliza a biblioteca Python **Scikit-learn** (http://scikit-learn.org/).\n",
    "\n",
    "**Scikit-learn** é uma biblioteca _open-source_ de _machine learning_ para Python que oferece uma variedade de algoritimos de regressão, classificação e _clustering_."
   ]
  },
  {
   "cell_type": "markdown",
   "id": "e437e8d7",
   "metadata": {
    "id": "e437e8d7"
   },
   "source": [
    "## Objetivo:\n",
    "* Marcar automaticamente mensagens como _phishing_ por meio de seu conteúdo.\n",
    "\n",
    "### Dados de entrada:\n",
    "\n",
    "**Origem:**\n",
    "* emails-enron-features.csv: E-mails comuns, sem _phishing_, obtidos do Enron Corpus;\n",
    "* emails-phishing-features.csv: E-mails de _phishing_.\n",
    "\n",
    "<i>Ambos os arquivos foram criados com base em um _fork_ do projeto: https://github.com/diegoocampoh/MachineLearningPhishing</i>"
   ]
  },
  {
   "cell_type": "markdown",
   "id": "8cc7fbf7",
   "metadata": {
    "id": "8cc7fbf7"
   },
   "source": [
    "**Features description:**\n",
    "* ID: (numerical) E-mail ID extraído do arquivo mbox;\n",
    "* Content Type: (object) [Content type](https://en.wikipedia.org/wiki/MIME) do e-mail;\n",
    "* Message: (object) Conteúdo do e-mail;\n",
    "\n",
    "**Label**\n",
    "* Phishy: (boolean) True se o e-mail for considerado _phishing_."
   ]
  },
  {
   "cell_type": "markdown",
   "id": "600d4546",
   "metadata": {
    "id": "600d4546"
   },
   "source": [
    "## Sumário:\n",
    "\n",
    "1. [Import e Load](#p1)\n",
    "2. [Exploração de Dados](#p2)\n",
    "3. [Prepare the Data Set](#p3)\n",
    "4. [Treinamento e Teste](#p4)\n",
    "5. [Exercício](#p5)"
   ]
  },
  {
   "cell_type": "markdown",
   "id": "ca3dc483",
   "metadata": {
    "id": "ca3dc483"
   },
   "source": [
    "<a id=\"p1\"></a>\n",
    "## 1. Import e Load\n",
    "\n",
    "O data set é uma concatenção de dois arquivos [CSV](https://en.wikipedia.org/wiki/Comma-separated_values) criados com base no [Enron e-mail corpus](https://www.cs.cmu.edu/~enron/) e uma [coletânea de e-mails de phishing](http://monkey.org/%7Ejose/wiki/doku.php?id=PhishingCorpus)."
   ]
  },
  {
   "cell_type": "code",
   "execution_count": 1,
   "id": "066be5cd",
   "metadata": {
    "executionInfo": {
     "elapsed": 915,
     "status": "ok",
     "timestamp": 1649536155145,
     "user": {
      "displayName": "Isabelle Andrade",
      "userId": "17430687295335590762"
     },
     "user_tz": 180
    },
    "id": "066be5cd"
   },
   "outputs": [],
   "source": [
    "import numpy as np\n",
    "import pandas as pd\n",
    "\n",
    "from sklearn.model_selection import train_test_split\n",
    "from sklearn import metrics"
   ]
  },
  {
   "cell_type": "code",
   "execution_count": 2,
   "id": "b577baa8",
   "metadata": {
    "executionInfo": {
     "elapsed": 589,
     "status": "ok",
     "timestamp": 1649536343532,
     "user": {
      "displayName": "Isabelle Andrade",
      "userId": "17430687295335590762"
     },
     "user_tz": 180
    },
    "id": "b577baa8"
   },
   "outputs": [],
   "source": [
    "# For Google Colab (upload files first)\n",
    "#df = pd.concat(map(pd.read_csv, \n",
    "#                   ['/content/emails-enron.csv', \n",
    "#                    '/content/emails-phishing.csv']))\n"
   ]
  },
  {
   "cell_type": "code",
   "execution_count": 3,
   "id": "1-gjiq1nAwaQ",
   "metadata": {
    "executionInfo": {
     "elapsed": 257,
     "status": "ok",
     "timestamp": 1649536183946,
     "user": {
      "displayName": "Isabelle Andrade",
      "userId": "17430687295335590762"
     },
     "user_tz": 180
    },
    "id": "1-gjiq1nAwaQ"
   },
   "outputs": [],
   "source": [
    "# For docker\n",
    "df = pd.concat(map(pd.read_csv, \n",
    "                   ['../data/emails-enron.csv', \n",
    "                    '../data/emails-phishing.csv']))"
   ]
  },
  {
   "cell_type": "code",
   "execution_count": 4,
   "id": "hg3sUxA0AxHI",
   "metadata": {
    "colab": {
     "base_uri": "https://localhost:8080/",
     "height": 206
    },
    "executionInfo": {
     "elapsed": 277,
     "status": "ok",
     "timestamp": 1649536364767,
     "user": {
      "displayName": "Isabelle Andrade",
      "userId": "17430687295335590762"
     },
     "user_tz": 180
    },
    "id": "hg3sUxA0AxHI",
    "outputId": "8a2a29ab-74ce-4442-9a04-b11b2abccbe6"
   },
   "outputs": [
    {
     "data": {
      "text/html": [
       "<div>\n",
       "<style scoped>\n",
       "    .dataframe tbody tr th:only-of-type {\n",
       "        vertical-align: middle;\n",
       "    }\n",
       "\n",
       "    .dataframe tbody tr th {\n",
       "        vertical-align: top;\n",
       "    }\n",
       "\n",
       "    .dataframe thead th {\n",
       "        text-align: right;\n",
       "    }\n",
       "</style>\n",
       "<table border=\"1\" class=\"dataframe\">\n",
       "  <thead>\n",
       "    <tr style=\"text-align: right;\">\n",
       "      <th></th>\n",
       "      <th>ID</th>\n",
       "      <th>Content Type</th>\n",
       "      <th>Message</th>\n",
       "      <th>Phishy</th>\n",
       "    </tr>\n",
       "  </thead>\n",
       "  <tbody>\n",
       "    <tr>\n",
       "      <th>0</th>\n",
       "      <td>1</td>\n",
       "      <td>text/plain</td>\n",
       "      <td>?\\tPay well ? and pay for performance (with bo...</td>\n",
       "      <td>False</td>\n",
       "    </tr>\n",
       "    <tr>\n",
       "      <th>1</th>\n",
       "      <td>2</td>\n",
       "      <td>text/plain</td>\n",
       "      <td>Trading Profits\\r\\n\\r\\nP. Allen\\t\\t200\\r\\nM. G...</td>\n",
       "      <td>False</td>\n",
       "    </tr>\n",
       "    <tr>\n",
       "      <th>2</th>\n",
       "      <td>3</td>\n",
       "      <td>text/plain</td>\n",
       "      <td>John, as requested, please see the attached. I...</td>\n",
       "      <td>False</td>\n",
       "    </tr>\n",
       "    <tr>\n",
       "      <th>3</th>\n",
       "      <td>4</td>\n",
       "      <td>text/plain</td>\n",
       "      <td>Trading Profits\\r\\n\\r\\nP. Allen  200\\r\\nM. Gri...</td>\n",
       "      <td>False</td>\n",
       "    </tr>\n",
       "    <tr>\n",
       "      <th>4</th>\n",
       "      <td>5</td>\n",
       "      <td>text/plain</td>\n",
       "      <td>? Pay well =01( and pay for performance (with ...</td>\n",
       "      <td>False</td>\n",
       "    </tr>\n",
       "  </tbody>\n",
       "</table>\n",
       "</div>"
      ],
      "text/plain": [
       "   ID Content Type                                            Message  Phishy\n",
       "0   1   text/plain  ?\\tPay well ? and pay for performance (with bo...   False\n",
       "1   2   text/plain  Trading Profits\\r\\n\\r\\nP. Allen\\t\\t200\\r\\nM. G...   False\n",
       "2   3   text/plain  John, as requested, please see the attached. I...   False\n",
       "3   4   text/plain  Trading Profits\\r\\n\\r\\nP. Allen  200\\r\\nM. Gri...   False\n",
       "4   5   text/plain  ? Pay well =01( and pay for performance (with ...   False"
      ]
     },
     "execution_count": 4,
     "metadata": {},
     "output_type": "execute_result"
    }
   ],
   "source": [
    "df.head()"
   ]
  },
  {
   "cell_type": "markdown",
   "id": "b279c645",
   "metadata": {
    "id": "b279c645"
   },
   "source": [
    "<a id=\"p2\"></a>\n",
    "## 2. Exploração de Dados\n",
    "\n",
    "Etapa inicial da análise de dados, em que exploramos os dados de uma forma não estruturada a fim de descobrir padrões iniciais, características e pontos de interesse."
   ]
  },
  {
   "cell_type": "code",
   "execution_count": 5,
   "id": "ad290123",
   "metadata": {
    "colab": {
     "base_uri": "https://localhost:8080/"
    },
    "executionInfo": {
     "elapsed": 252,
     "status": "ok",
     "timestamp": 1649536368596,
     "user": {
      "displayName": "Isabelle Andrade",
      "userId": "17430687295335590762"
     },
     "user_tz": 180
    },
    "id": "ad290123",
    "outputId": "796f4476-3f3c-48bf-c5f1-0c3c993379dc"
   },
   "outputs": [
    {
     "data": {
      "text/plain": [
       "pandas.core.frame.DataFrame"
      ]
     },
     "execution_count": 5,
     "metadata": {},
     "output_type": "execute_result"
    }
   ],
   "source": [
    "type(df)"
   ]
  },
  {
   "cell_type": "code",
   "execution_count": 6,
   "id": "926e3043",
   "metadata": {
    "colab": {
     "base_uri": "https://localhost:8080/"
    },
    "executionInfo": {
     "elapsed": 10,
     "status": "ok",
     "timestamp": 1649536369741,
     "user": {
      "displayName": "Isabelle Andrade",
      "userId": "17430687295335590762"
     },
     "user_tz": 180
    },
    "id": "926e3043",
    "outputId": "e1db448c-5cd4-4041-d399-a4dca2286e23"
   },
   "outputs": [
    {
     "data": {
      "text/plain": [
       "(4000, 4)"
      ]
     },
     "execution_count": 6,
     "metadata": {},
     "output_type": "execute_result"
    }
   ],
   "source": [
    "df.shape"
   ]
  },
  {
   "cell_type": "markdown",
   "id": "a8348e4b",
   "metadata": {
    "id": "a8348e4b"
   },
   "source": [
    "### Verificar valores nulos\n",
    "\n",
    "Valores nulos nos dados podem reduzir o poder estatístico de um estudo produzindo estimativas tendenciosas e levando a conclusões inválidas ([Why are missing values a problem?](https://www.ncbi.nlm.nih.gov/pmc/articles/PMC3668100/))."
   ]
  },
  {
   "cell_type": "code",
   "execution_count": 7,
   "id": "69ae6e1e",
   "metadata": {
    "colab": {
     "base_uri": "https://localhost:8080/"
    },
    "executionInfo": {
     "elapsed": 310,
     "status": "ok",
     "timestamp": 1649536374893,
     "user": {
      "displayName": "Isabelle Andrade",
      "userId": "17430687295335590762"
     },
     "user_tz": 180
    },
    "id": "69ae6e1e",
    "outputId": "802a4232-c13e-4cf0-9d34-db86839662df"
   },
   "outputs": [
    {
     "data": {
      "text/plain": [
       "ID              0\n",
       "Content Type    0\n",
       "Message         0\n",
       "Phishy          0\n",
       "dtype: int64"
      ]
     },
     "execution_count": 7,
     "metadata": {},
     "output_type": "execute_result"
    }
   ],
   "source": [
    "df.isnull().sum()"
   ]
  },
  {
   "cell_type": "markdown",
   "id": "fb365a6c",
   "metadata": {
    "id": "fb365a6c"
   },
   "source": [
    "### Verificar a coluna com os dados \"de sáida\", rótulo *Phishy*"
   ]
  },
  {
   "cell_type": "code",
   "execution_count": 8,
   "id": "75439049",
   "metadata": {
    "id": "75439049"
   },
   "outputs": [
    {
     "data": {
      "text/plain": [
       "array([False,  True])"
      ]
     },
     "execution_count": 8,
     "metadata": {},
     "output_type": "execute_result"
    }
   ],
   "source": [
    "df['Phishy'].unique()"
   ]
  },
  {
   "cell_type": "code",
   "execution_count": 9,
   "id": "47e81c3e",
   "metadata": {
    "colab": {
     "base_uri": "https://localhost:8080/"
    },
    "executionInfo": {
     "elapsed": 255,
     "status": "ok",
     "timestamp": 1649536378776,
     "user": {
      "displayName": "Isabelle Andrade",
      "userId": "17430687295335590762"
     },
     "user_tz": 180
    },
    "id": "47e81c3e",
    "outputId": "79acf872-cced-47f5-aad4-494ce9a88c26"
   },
   "outputs": [
    {
     "data": {
      "text/plain": [
       "False    2000\n",
       "True     2000\n",
       "Name: Phishy, dtype: int64"
      ]
     },
     "execution_count": 9,
     "metadata": {},
     "output_type": "execute_result"
    }
   ],
   "source": [
    "df['Phishy'].value_counts()"
   ]
  },
  {
   "cell_type": "markdown",
   "id": "6e3be51f",
   "metadata": {
    "id": "6e3be51f"
   },
   "source": [
    "Podemos observar que nesse caso específico temos um [data set balanceado](https://medium.com/analytics-vidhya/what-is-balance-and-imbalance-dataset-89e8d7f46bc5): 2000/4000 e-mails (50%) são rotulados como _Phishy_.\n",
    "\n",
    "Isso significa que o modelo de _machine learning_ que iremos criar precisa ter um desempenho **melhor que 50%** para ser melhor do que uma escolha aleatório."
   ]
  },
  {
   "cell_type": "markdown",
   "id": "60a727c9",
   "metadata": {
    "id": "60a727c9"
   },
   "source": [
    "### Verificar os tipos das colunas de _features_"
   ]
  },
  {
   "cell_type": "code",
   "execution_count": 10,
   "id": "7992b63e",
   "metadata": {
    "colab": {
     "base_uri": "https://localhost:8080/"
    },
    "executionInfo": {
     "elapsed": 5,
     "status": "ok",
     "timestamp": 1649536380465,
     "user": {
      "displayName": "Isabelle Andrade",
      "userId": "17430687295335590762"
     },
     "user_tz": 180
    },
    "id": "7992b63e",
    "outputId": "24ad780b-50fa-47ff-ec10-8aef73e0e5ba"
   },
   "outputs": [
    {
     "data": {
      "text/plain": [
       "ID               int64\n",
       "Content Type    object\n",
       "Message         object\n",
       "Phishy            bool\n",
       "dtype: object"
      ]
     },
     "execution_count": 10,
     "metadata": {},
     "output_type": "execute_result"
    }
   ],
   "source": [
    "df.dtypes"
   ]
  },
  {
   "cell_type": "markdown",
   "id": "f3f2716a",
   "metadata": {
    "id": "f3f2716a"
   },
   "source": [
    "### \"Saco de Palavras\" (_Bag of Words_) e TF-IDF"
   ]
  },
  {
   "cell_type": "markdown",
   "id": "ab1cac19",
   "metadata": {
    "id": "ab1cac19"
   },
   "source": [
    "Uma **Bag of Words** é uma representação simplificada utilizada em Processamento Natural de Linguagem (_Natural Language Processing - NLP_), em que um texto (uma frase ou um documento) é representado como um \"saco\" (conjunto) de suas palavras, desconsiderando qualquer análise gramatical ou ordem das palavras, porém mantendo a multiplicidade.\n",
    "\n"
   ]
  },
  {
   "cell_type": "markdown",
   "id": "1d9466f1",
   "metadata": {
    "id": "1d9466f1"
   },
   "source": [
    "**Exemplo:**"
   ]
  },
  {
   "cell_type": "code",
   "execution_count": 11,
   "id": "15f248ac",
   "metadata": {
    "executionInfo": {
     "elapsed": 263,
     "status": "ok",
     "timestamp": 1649536387358,
     "user": {
      "displayName": "Isabelle Andrade",
      "userId": "17430687295335590762"
     },
     "user_tz": 180
    },
    "id": "15f248ac"
   },
   "outputs": [],
   "source": [
    "# Frases\n",
    "s1 = \"Em um buraco no chão vivia um Hobbit\"\n",
    "s2 = \"Não é sensato deixar um dragão fora dos teus cálculos se vives perto dele\""
   ]
  },
  {
   "cell_type": "code",
   "execution_count": 12,
   "id": "e4512349",
   "metadata": {
    "colab": {
     "base_uri": "https://localhost:8080/"
    },
    "executionInfo": {
     "elapsed": 263,
     "status": "ok",
     "timestamp": 1649536391307,
     "user": {
      "displayName": "Isabelle Andrade",
      "userId": "17430687295335590762"
     },
     "user_tz": 180
    },
    "id": "e4512349",
    "outputId": "45ae5008-0e42-451c-d94b-02d7136fdad9"
   },
   "outputs": [
    {
     "name": "stdout",
     "output_type": "stream",
     "text": [
      "{'em': 1, 'um': 2, 'buraco': 3, 'no': 4, 'chão': 5, 'vivia': 6, 'hobbit': 7, 'não': 8, 'é': 9, 'sensato': 10, 'deixar': 11, 'dragão': 12, 'fora': 13, 'dos': 14, 'teus': 15, 'cálculos': 16, 'se': 17, 'vives': 18, 'perto': 19, 'dele': 20}\n"
     ]
    }
   ],
   "source": [
    "# Vocabulary\n",
    "vocab = {}\n",
    "i = 1\n",
    "\n",
    "for word in s1.lower().split()+s2.lower().split():\n",
    "    if word in vocab:\n",
    "        continue\n",
    "    else:\n",
    "        vocab[word]=i\n",
    "        i+=1\n",
    "        \n",
    "print(vocab)"
   ]
  },
  {
   "cell_type": "code",
   "execution_count": 13,
   "id": "2a576661",
   "metadata": {
    "colab": {
     "base_uri": "https://localhost:8080/"
    },
    "executionInfo": {
     "elapsed": 6,
     "status": "ok",
     "timestamp": 1649536393140,
     "user": {
      "displayName": "Isabelle Andrade",
      "userId": "17430687295335590762"
     },
     "user_tz": 180
    },
    "id": "2a576661",
    "outputId": "5a403e67-f5ff-4383-ac1e-cb136684a60e"
   },
   "outputs": [
    {
     "name": "stdout",
     "output_type": "stream",
     "text": [
      "['s1', 1, 2, 1, 1, 1, 1, 1, 0, 0, 0, 0, 0, 0, 0, 0, 0, 0, 0, 0, 0]\n"
     ]
    }
   ],
   "source": [
    "# Empty vectors with an index for each word in the vocabulary\n",
    "s1_vector = ['s1']+[0]*len(vocab)\n",
    "\n",
    "# Map the frequencies of each word to the vectors\n",
    "for word in s1.lower().split():\n",
    "    s1_vector[vocab[word]]+=1\n",
    "    \n",
    "print(s1_vector)"
   ]
  },
  {
   "cell_type": "code",
   "execution_count": 14,
   "id": "96f614b5",
   "metadata": {
    "id": "96f614b5"
   },
   "outputs": [
    {
     "name": "stdout",
     "output_type": "stream",
     "text": [
      "['s2', 0, 1, 0, 0, 0, 0, 0, 1, 1, 1, 1, 1, 1, 1, 1, 1, 1, 1, 1, 1]\n"
     ]
    }
   ],
   "source": [
    "# Empty vectors with an index for each word in the vocabulary\n",
    "s2_vector = ['s2']+[0]*len(vocab)\n",
    "\n",
    "# Map the frequencies of each word to the vectors\n",
    "for word in s2.lower().split():\n",
    "    s2_vector[vocab[word]]+=1\n",
    "    \n",
    "print(s2_vector)"
   ]
  },
  {
   "cell_type": "code",
   "execution_count": 15,
   "id": "870c046a",
   "metadata": {
    "colab": {
     "base_uri": "https://localhost:8080/"
    },
    "executionInfo": {
     "elapsed": 276,
     "status": "ok",
     "timestamp": 1649536397829,
     "user": {
      "displayName": "Isabelle Andrade",
      "userId": "17430687295335590762"
     },
     "user_tz": 180
    },
    "id": "870c046a",
    "outputId": "ff0ca195-f004-42db-a16d-87df2a67bde4"
   },
   "outputs": [
    {
     "name": "stdout",
     "output_type": "stream",
     "text": [
      "['s1', 1, 2, 1, 1, 1, 1, 1, 0, 0, 0, 0, 0, 0, 0, 0, 0, 0, 0, 0, 0]\n",
      "['s2', 0, 1, 0, 0, 0, 0, 0, 1, 1, 1, 1, 1, 1, 1, 1, 1, 1, 1, 1, 1]\n"
     ]
    }
   ],
   "source": [
    "# Vectors comparison\n",
    "print(f'{s1_vector}\\n{s2_vector}')"
   ]
  },
  {
   "cell_type": "markdown",
   "id": "655f158b",
   "metadata": {
    "id": "655f158b"
   },
   "source": [
    "No exemplo acima, cada vetor pode ser considerado uma **bag of words**. Estendendo essa lógica para milhares de entradas, podemos perceber que o dicionário de vocabulário poderia crescer para centenas de milhares de palavras."
   ]
  },
  {
   "cell_type": "markdown",
   "id": "e043d429",
   "metadata": {
    "id": "e043d429"
   },
   "source": [
    "Na prática, o modelo **bag of words** é usado principalmente como uma ferramenta de geração de _features_. Depois de transformar o texto em uma **bag of words**, é possível calcular várias métricas para caracterizar o texto. O tipo mais comum de métrica, ou _feature_, calculada a partir desse modelo é a frequência de termos, ou seja,  número de vezes ue um termo aparece no texto."
   ]
  },
  {
   "cell_type": "markdown",
   "id": "80d2a271",
   "metadata": {
    "id": "80d2a271"
   },
   "source": [
    "### TF-IDF"
   ]
  },
  {
   "cell_type": "markdown",
   "id": "8eb11652",
   "metadata": {
    "id": "8eb11652"
   },
   "source": [
    "**TF-IDF**, abreviação de 'Term Frequency–Inverse Document Frequency', é uma estatística numérica destinada a refletir a importância de uma palavra para um documento.\n",
    "\n",
    "Considera basicamente frequências de termos (quantidade de ocorrências do termo / quantidade de termos na frase) e frequência inversa de frases (quantidade total de frases / quantidade de frases que contém o termo), o que diminui o peso dos termos que ocorrem com muita frequência no documento e aumenta o peso de termos que ocorrem raramente."
   ]
  },
  {
   "cell_type": "markdown",
   "id": "45cc9ecb",
   "metadata": {
    "id": "45cc9ecb"
   },
   "source": [
    "### Outras definições interessantes"
   ]
  },
  {
   "cell_type": "markdown",
   "id": "900bf407",
   "metadata": {
    "id": "900bf407"
   },
   "source": [
    "* **Stop words**: palavras irrelevantes, termos frequentes que podem ser ignorados no vocabulário (exe: 'a', 'isso', 'e', ...)\n",
    "* **Tokenization**: divisão de documentos em termos individuais (frequentemente utiliaz conceitos de morfologia)\n",
    "* **Word stems**: uso da raiz de uma palavrá (exe: ao invés do vocabulário conter ambas as palavras 'dragão' e 'dragões', poderia incluir somente 'dragão')\n",
    "* **Tagging**: adiciona mais dimensões aos _tokens_ (parte do discursos, dependências gramaticais, etc.)"
   ]
  },
  {
   "cell_type": "markdown",
   "id": "babc9132",
   "metadata": {
    "id": "babc9132"
   },
   "source": [
    "<a id=\"p3\"></a>\n",
    "## 3. Preparando o Data Set"
   ]
  },
  {
   "cell_type": "markdown",
   "id": "b14f2e1a",
   "metadata": {
    "id": "b14f2e1a"
   },
   "source": [
    "### Definir colunas de _features_ e de rótulos\n",
    "\n",
    "Colunas de **feature** são aquelas utiliadas para prever as colunas de **label** (rótulo). Dessa vez vamos utilizar o próprio texto como feature.\n",
    "\n",
    "Por **convenção**, _features_ são representadas como **X** (uppercase) e labels como **y** (lowercase)."
   ]
  },
  {
   "cell_type": "code",
   "execution_count": 16,
   "id": "50564020",
   "metadata": {
    "executionInfo": {
     "elapsed": 242,
     "status": "ok",
     "timestamp": 1649536404931,
     "user": {
      "displayName": "Isabelle Andrade",
      "userId": "17430687295335590762"
     },
     "user_tz": 180
    },
    "id": "50564020"
   },
   "outputs": [],
   "source": [
    "from sklearn.model_selection import train_test_split\n",
    "\n",
    "X = df['Message']\n",
    "y = df['Phishy']"
   ]
  },
  {
   "cell_type": "markdown",
   "id": "db71a0a3",
   "metadata": {
    "id": "db71a0a3"
   },
   "source": [
    "### Dividir os dados em conjuntos de treinamento e teste\n",
    "\n",
    "Aqui nos vamos atribuir 70% dos dados para a fase de treinamento e 30% para a fase de teste.\n",
    "\n",
    "Vamos utilizadr a variável de configuração `random_state` (semente de distribuição) para garantir a replicabilidade dos resultados."
   ]
  },
  {
   "cell_type": "code",
   "execution_count": 17,
   "id": "9901cc9a",
   "metadata": {
    "colab": {
     "base_uri": "https://localhost:8080/"
    },
    "executionInfo": {
     "elapsed": 241,
     "status": "ok",
     "timestamp": 1649536419703,
     "user": {
      "displayName": "Isabelle Andrade",
      "userId": "17430687295335590762"
     },
     "user_tz": 180
    },
    "id": "9901cc9a",
    "outputId": "0f74aa15-f9d3-439b-b8be-1e191ad5164d"
   },
   "outputs": [
    {
     "data": {
      "text/plain": [
       "(2800,)"
      ]
     },
     "execution_count": 17,
     "metadata": {},
     "output_type": "execute_result"
    }
   ],
   "source": [
    "X_train, X_test, y_train, y_test = train_test_split(X, y, test_size=0.30, random_state=42)\n",
    "\n",
    "X_train.shape"
   ]
  },
  {
   "cell_type": "markdown",
   "id": "24073541",
   "metadata": {
    "id": "24073541"
   },
   "source": [
    "### CountVectorizer\n",
    "\n",
    "Pré-processamento de texto, tokenização e a capacidade de filtrar _stopwords_ são funcionalidades já inclusas no módulo [CountVectorizer](https://scikit-learn.org/stable/modules/generated/sklearn.feature_extraction.text.CountVectorizer.html), que permite a construção de um dicionário de _features_ e transforma documentos em vetores dessas _features_, semelhante a um **bag of words**."
   ]
  },
  {
   "cell_type": "code",
   "execution_count": 18,
   "id": "dbbbebf5",
   "metadata": {
    "colab": {
     "base_uri": "https://localhost:8080/"
    },
    "executionInfo": {
     "elapsed": 2466,
     "status": "ok",
     "timestamp": 1649536411264,
     "user": {
      "displayName": "Isabelle Andrade",
      "userId": "17430687295335590762"
     },
     "user_tz": 180
    },
    "id": "dbbbebf5",
    "outputId": "86d1e6f2-9ad7-4744-acc8-b42d49be6c39"
   },
   "outputs": [
    {
     "data": {
      "text/plain": [
       "(2800, 82671)"
      ]
     },
     "execution_count": 18,
     "metadata": {},
     "output_type": "execute_result"
    }
   ],
   "source": [
    "from sklearn.feature_extraction.text import CountVectorizer\n",
    "count_vect = CountVectorizer()\n",
    "\n",
    "X_train_cv = count_vect.fit_transform(X_train)\n",
    "X_train_cv.shape"
   ]
  },
  {
   "cell_type": "markdown",
   "id": "182c8596",
   "metadata": {
    "id": "182c8596"
   },
   "source": [
    "Após utiliar o `CountVectorizer`, nosso conjunto de dados de treinamento agora possui 2800 e-mails com <font color=green>**82671**</font> _features_."
   ]
  },
  {
   "cell_type": "code",
   "execution_count": 19,
   "id": "42ece01f",
   "metadata": {
    "colab": {
     "base_uri": "https://localhost:8080/"
    },
    "executionInfo": {
     "elapsed": 8,
     "status": "ok",
     "timestamp": 1649536411265,
     "user": {
      "displayName": "Isabelle Andrade",
      "userId": "17430687295335590762"
     },
     "user_tz": 180
    },
    "id": "42ece01f",
    "outputId": "c5d86e35-6fdd-4173-c439-d99aba684b2e"
   },
   "outputs": [
    {
     "data": {
      "text/plain": [
       "array(['00', '000', '0000', ..., 'ёп2007', 'ёпregions', 'ўз'],\n",
       "      dtype=object)"
      ]
     },
     "execution_count": 19,
     "metadata": {},
     "output_type": "execute_result"
    }
   ],
   "source": [
    "# Extracted features\n",
    "count_vect.get_feature_names_out()"
   ]
  },
  {
   "cell_type": "markdown",
   "id": "8fbc25ef",
   "metadata": {
    "id": "8fbc25ef"
   },
   "source": [
    "### Tfidf Transformer\n",
    "\n",
    "TF-IDF pode ser calculada utilizando o módulo do Scikit-learn's [TfidfTransformer](https://scikit-learn.org/stable/modules/generated/sklearn.feature_extraction.text.TfidfTransformer.html)."
   ]
  },
  {
   "cell_type": "code",
   "execution_count": 20,
   "id": "07114c35",
   "metadata": {
    "colab": {
     "base_uri": "https://localhost:8080/"
    },
    "executionInfo": {
     "elapsed": 257,
     "status": "ok",
     "timestamp": 1649536423859,
     "user": {
      "displayName": "Isabelle Andrade",
      "userId": "17430687295335590762"
     },
     "user_tz": 180
    },
    "id": "07114c35",
    "outputId": "028d3f56-b8b8-451e-9fea-817305488623"
   },
   "outputs": [
    {
     "data": {
      "text/plain": [
       "(2800, 82671)"
      ]
     },
     "execution_count": 20,
     "metadata": {},
     "output_type": "execute_result"
    }
   ],
   "source": [
    "from sklearn.feature_extraction.text import TfidfTransformer\n",
    "tfidf_transformer = TfidfTransformer()\n",
    "\n",
    "X_train_tfidf = tfidf_transformer.fit_transform(X_train_cv)\n",
    "X_train_tfidf.shape"
   ]
  },
  {
   "cell_type": "markdown",
   "id": "2b97c183",
   "metadata": {
    "id": "2b97c183"
   },
   "source": [
    "O método `fit_transform()` executa duas operations nesse caso: ajusta um estimador para os dados e transforma nossa matrix de palavras em (X_train_cv) uma representação tf-idf."
   ]
  },
  {
   "cell_type": "markdown",
   "id": "d52f96c8",
   "metadata": {
    "id": "d52f96c8"
   },
   "source": [
    "### TfidfVectorizer\n",
    "\n",
    "O módulo [TfidVectorizer](https://scikit-learn.org/stable/modules/generated/sklearn.feature_extraction.text.TfidfVectorizer.html) combina os módulos `CountVectorizer` e `TfidTransformer` em um só."
   ]
  },
  {
   "cell_type": "code",
   "execution_count": 21,
   "id": "e755b7b2",
   "metadata": {
    "colab": {
     "base_uri": "https://localhost:8080/"
    },
    "executionInfo": {
     "elapsed": 2667,
     "status": "ok",
     "timestamp": 1649536430389,
     "user": {
      "displayName": "Isabelle Andrade",
      "userId": "17430687295335590762"
     },
     "user_tz": 180
    },
    "id": "e755b7b2",
    "outputId": "4d9305ab-c7d3-4237-c956-37a476cf79c2"
   },
   "outputs": [
    {
     "data": {
      "text/plain": [
       "(2800, 82671)"
      ]
     },
     "execution_count": 21,
     "metadata": {},
     "output_type": "execute_result"
    }
   ],
   "source": [
    "from sklearn.feature_extraction.text import TfidfVectorizer\n",
    "vectorizer = TfidfVectorizer()\n",
    "\n",
    "X_train_tfidf = vectorizer.fit_transform(X_train)\n",
    "X_train_tfidf.shape"
   ]
  },
  {
   "cell_type": "markdown",
   "id": "957abd54",
   "metadata": {
    "id": "957abd54"
   },
   "source": [
    "<a id=\"p4\"></a>\n",
    "## 4. Treinamento e Teste\n",
    "\n",
    "Como nosso conjunto de treinamento precisa ser vetoriazdo antes de ser processado pelo classificador, podemos usar um [Pipeline](https://scikit-learn.org/stable/modules/generated/sklearn.pipeline.Pipeline.html), uma classe que funciona como um classificador composto."
   ]
  },
  {
   "cell_type": "markdown",
   "id": "42af787d",
   "metadata": {
    "id": "42af787d"
   },
   "source": [
    "Nesse exemplo, vamos utilizar um algoritimo de [Linear Support Vector Classification](https://scikit-learn.org/stable/modules/svm.html) devido a seu bom desempenho com entradas esparsas: ([LinearSVC](https://scikit-learn.org/stable/modules/generated/sklearn.svm.LinearSVC.html))."
   ]
  },
  {
   "cell_type": "code",
   "execution_count": 22,
   "id": "fd84098c",
   "metadata": {
    "executionInfo": {
     "elapsed": 2793,
     "status": "ok",
     "timestamp": 1649536435895,
     "user": {
      "displayName": "Isabelle Andrade",
      "userId": "17430687295335590762"
     },
     "user_tz": 180
    },
    "id": "fd84098c"
   },
   "outputs": [],
   "source": [
    "from sklearn.pipeline import Pipeline\n",
    "from sklearn.svm import LinearSVC\n",
    "\n",
    "# Pipeline\n",
    "lsvc = Pipeline([\n",
    "                  ('tfidf', TfidfVectorizer()),\n",
    "                  ('clf', LinearSVC()),\n",
    "                 ])\n",
    "\n",
    "# Train\n",
    "lsvc = lsvc.fit(X_train, y_train)  "
   ]
  },
  {
   "cell_type": "code",
   "execution_count": 23,
   "id": "feb153ba",
   "metadata": {
    "executionInfo": {
     "elapsed": 1350,
     "status": "ok",
     "timestamp": 1649536439078,
     "user": {
      "displayName": "Isabelle Andrade",
      "userId": "17430687295335590762"
     },
     "user_tz": 180
    },
    "id": "feb153ba"
   },
   "outputs": [],
   "source": [
    "# Create a prediction set\n",
    "predictions = lsvc.predict(X_test)"
   ]
  },
  {
   "cell_type": "code",
   "execution_count": 24,
   "id": "1e0adb34",
   "metadata": {
    "colab": {
     "base_uri": "https://localhost:8080/",
     "height": 296
    },
    "executionInfo": {
     "elapsed": 559,
     "status": "ok",
     "timestamp": 1649536440674,
     "user": {
      "displayName": "Isabelle Andrade",
      "userId": "17430687295335590762"
     },
     "user_tz": 180
    },
    "id": "1e0adb34",
    "outputId": "a7d29503-9058-4420-de53-dbeada6322c3"
   },
   "outputs": [
    {
     "data": {
      "text/plain": [
       "<sklearn.metrics._plot.confusion_matrix.ConfusionMatrixDisplay at 0x7f29c9824b20>"
      ]
     },
     "execution_count": 24,
     "metadata": {},
     "output_type": "execute_result"
    },
    {
     "data": {
      "image/png": "[encoded data removed]",
      "text/plain": [
       "<Figure size 640x480 with 2 Axes>"
      ]
     },
     "metadata": {},
     "output_type": "display_data"
    }
   ],
   "source": [
    "# Print a confusion matrix\n",
    "cm = metrics.confusion_matrix(y_test, predictions, labels=lsvc.classes_)\n",
    "\n",
    "disp = metrics.ConfusionMatrixDisplay(confusion_matrix=cm, display_labels=lsvc.classes_)\n",
    "disp.plot()"
   ]
  },
  {
   "cell_type": "code",
   "execution_count": 25,
   "id": "4489c7e2",
   "metadata": {
    "colab": {
     "base_uri": "https://localhost:8080/"
    },
    "executionInfo": {
     "elapsed": 248,
     "status": "ok",
     "timestamp": 1649536443044,
     "user": {
      "displayName": "Isabelle Andrade",
      "userId": "17430687295335590762"
     },
     "user_tz": 180
    },
    "id": "4489c7e2",
    "outputId": "aa3e5daa-09ca-4263-fc44-9f93ed76715f"
   },
   "outputs": [
    {
     "name": "stdout",
     "output_type": "stream",
     "text": [
      "              precision    recall  f1-score   support\n",
      "\n",
      "       False       0.99      1.00      0.99       622\n",
      "        True       1.00      0.99      0.99       578\n",
      "\n",
      "    accuracy                           0.99      1200\n",
      "   macro avg       0.99      0.99      0.99      1200\n",
      "weighted avg       0.99      0.99      0.99      1200\n",
      "\n"
     ]
    }
   ],
   "source": [
    "# Classification report\n",
    "print(metrics.classification_report(y_test,predictions))"
   ]
  },
  {
   "cell_type": "code",
   "execution_count": 26,
   "id": "f39e3d07",
   "metadata": {
    "colab": {
     "base_uri": "https://localhost:8080/"
    },
    "executionInfo": {
     "elapsed": 260,
     "status": "ok",
     "timestamp": 1649536445333,
     "user": {
      "displayName": "Isabelle Andrade",
      "userId": "17430687295335590762"
     },
     "user_tz": 180
    },
    "id": "f39e3d07",
    "outputId": "5e6d28e4-85dd-4621-b465-417891408fab"
   },
   "outputs": [
    {
     "name": "stdout",
     "output_type": "stream",
     "text": [
      "0.9941666666666666\n"
     ]
    }
   ],
   "source": [
    "# Print the overall accuracy\n",
    "print(metrics.accuracy_score(y_test,predictions))"
   ]
  },
  {
   "cell_type": "markdown",
   "id": "01514f26",
   "metadata": {
    "id": "01514f26"
   },
   "source": [
    "<a id=\"p5\"></a>\n",
    "## 5. Exercício"
   ]
  },
  {
   "cell_type": "markdown",
   "id": "8d080249",
   "metadata": {
    "id": "8d080249"
   },
   "source": [
    "### 5.1. Teste novos dados com o modelo treinado para verificar a predição "
   ]
  },
  {
   "cell_type": "code",
   "execution_count": 27,
   "id": "6052c955",
   "metadata": {
    "executionInfo": {
     "elapsed": 251,
     "status": "ok",
     "timestamp": 1649536447327,
     "user": {
      "displayName": "Isabelle Andrade",
      "userId": "17430687295335590762"
     },
     "user_tz": 180
    },
    "id": "6052c955"
   },
   "outputs": [],
   "source": [
    "test_email = \"Dear user, \\\n",
    "Your e-mail quota is running out. \\\n",
    "Please follow the link below to fix the issue: \\\n",
    "http://www.mailquota.com?/exec/fix\\\n",
    "and update your account information.\""
   ]
  },
  {
   "cell_type": "code",
   "execution_count": 28,
   "id": "7ab6faf4",
   "metadata": {
    "colab": {
     "base_uri": "https://localhost:8080/"
    },
    "executionInfo": {
     "elapsed": 6,
     "status": "ok",
     "timestamp": 1649536447328,
     "user": {
      "displayName": "Isabelle Andrade",
      "userId": "17430687295335590762"
     },
     "user_tz": 180
    },
    "id": "7ab6faf4",
    "outputId": "4362d293-929c-4d7e-be2a-9ab8becf7a29"
   },
   "outputs": [
    {
     "name": "stdout",
     "output_type": "stream",
     "text": [
      "[ True]\n"
     ]
    }
   ],
   "source": [
    "print(lsvc.predict([test_email]))"
   ]
  },
  {
   "cell_type": "markdown",
   "id": "ec3b1d46",
   "metadata": {
    "id": "ec3b1d46"
   },
   "source": [
    "### 5.2. Melhore o modelo utilizando `stop_words`"
   ]
  },
  {
   "cell_type": "code",
   "execution_count": 29,
   "id": "27896183",
   "metadata": {
    "colab": {
     "base_uri": "https://localhost:8080/"
    },
    "executionInfo": {
     "elapsed": 262,
     "status": "ok",
     "timestamp": 1649536454352,
     "user": {
      "displayName": "Isabelle Andrade",
      "userId": "17430687295335590762"
     },
     "user_tz": 180
    },
    "id": "27896183",
    "outputId": "947cbd2c-d6d3-4801-f715-a30e1e4854b1"
   },
   "outputs": [
    {
     "data": {
      "text/plain": [
       "Ellipsis"
      ]
     },
     "execution_count": 29,
     "metadata": {},
     "output_type": "execute_result"
    }
   ],
   "source": [
    "stop_words = ...\n",
    "\n",
    "from sklearn.pipeline import Pipeline\n",
    "from sklearn.svm import LinearSVC\n",
    "\n",
    "# Pipeline\n",
    "lsvc = Pipeline([\n",
    "                  ('tfidf', TfidfVectorizer(stop_words=stop_words)),\n",
    "                  ('clf', LinearSVC()),\n",
    "                 ])\n",
    "\n",
    "# Train\n",
    "..."
   ]
  },
  {
   "cell_type": "code",
   "execution_count": 30,
   "id": "df92aa88",
   "metadata": {
    "id": "df92aa88"
   },
   "outputs": [],
   "source": [
    "# Create a prediction set\n",
    "..."
   ]
  },
  {
   "cell_type": "code",
   "execution_count": 31,
   "id": "44c033ab",
   "metadata": {
    "id": "44c033ab"
   },
   "outputs": [],
   "source": [
    "# Print a confusion matrix\n",
    "..."
   ]
  },
  {
   "cell_type": "code",
   "execution_count": 32,
   "id": "b56fe179",
   "metadata": {
    "id": "b56fe179"
   },
   "outputs": [],
   "source": [
    "# Classification report\n",
    "..."
   ]
  },
  {
   "cell_type": "code",
   "execution_count": 33,
   "id": "f9caf1f7",
   "metadata": {
    "id": "f9caf1f7"
   },
   "outputs": [],
   "source": [
    "# Print the overall accuracy\n",
    "..."
   ]
  }
 ],
 "metadata": {
  "colab": {
   "name": "02 - ML - Text Classification.ipynb",
   "provenance": []
  },
  "kernelspec": {
   "display_name": "Python 3 (ipykernel)",
   "language": "python",
   "name": "python3"
  },
  "language_info": {
   "codemirror_mode": {
    "name": "ipython",
    "version": 3
   },
   "file_extension": ".py",
   "mimetype": "text/x-python",
   "name": "python",
   "nbconvert_exporter": "python",
   "pygments_lexer": "ipython3",
   "version": "3.10.6"
  }
 },
 "nbformat": 4,
 "nbformat_minor": 5
}
